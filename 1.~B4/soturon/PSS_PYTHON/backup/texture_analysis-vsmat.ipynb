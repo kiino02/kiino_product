{
 "cells": [
  {
   "cell_type": "code",
   "execution_count": 1,
   "metadata": {},
   "outputs": [],
   "source": [
    "import numpy as np\n",
    "import matplotlib.pyplot as plt\n",
    "from numpy.linalg import LinAlgError\n",
    "from scipy.stats import skew, kurtosis\n",
    "from PIL import Image\n",
    "import sys, os\n",
    "import logging\n",
    "import argparse, copy\n",
    "import time\n",
    "import sutils\n",
    "import steerable_pyramid_mat as steerable\n",
    "import texture_analysis_g as ta\n",
    "import scipy.io\n",
    "from pandas import DataFrame as df\n",
    "logger = logging.getLogger()\n",
    "logger.setLevel(level=50)"
   ]
  },
  {
   "cell_type": "markdown",
   "metadata": {},
   "source": [
    "# memo\n",
    "\n",
    "- parents 達はなぜ2倍位相にするのか これは学びたい"
   ]
  },
  {
   "cell_type": "code",
   "execution_count": 2,
   "metadata": {},
   "outputs": [],
   "source": [
    "class my_arg:\n",
    "    def __init__(self):\n",
    "        self.orig_img = \"periodic/CountExamp1.o.jpg\"\n",
    "        self.out_dir = \"tmp\"\n",
    "        self.num_depth = 4\n",
    "        self.num_ori = 4\n",
    "        self.num_neighbor = 7\n",
    "        self.iter = 100\n",
    "args = my_arg()\n",
    "\n",
    "arg = my_arg()\n",
    "iter = arg.iter\n",
    "orig_img = arg.orig_img\n",
    "out_dir  = arg.out_dir\n",
    "num_depth= arg.num_depth\n",
    "num_ori  = arg.num_ori\n",
    "num_neighbor = arg.num_neighbor\n",
    "\n",
    "im = np.array(Image.open(args.orig_img).convert(\"L\"))\n",
    "\n",
    "resol_x = im.shape[1]\n",
    "resol_y = im.shape[0]\n",
    "\n",
    "__file__ = \"aa\"\n",
    "LOG_FMT = \"[%(name)s] %(asctime)s %(levelname)s %(lineno)s %(message)s\"\n",
    "logging.basicConfig(level=logging.DEBUG, format=LOG_FMT)\n",
    "LOGGER = logging.getLogger(os.path.basename(__file__))"
   ]
  },
  {
   "cell_type": "code",
   "execution_count": 3,
   "metadata": {},
   "outputs": [],
   "source": [
    "mat_data = scipy.io.loadmat(\"matlab/counter_not_noise.mat\")"
   ]
  },
  {
   "cell_type": "code",
   "execution_count": 4,
   "metadata": {},
   "outputs": [
    {
     "data": {
      "text/plain": [
       "<matplotlib.image.AxesImage at 0x7f9eeb17bb70>"
      ]
     },
     "execution_count": 4,
     "metadata": {},
     "output_type": "execute_result"
    },
    {
     "data": {
      "image/png": "[encoded data removed]",
      "text/plain": [
       "<Figure size 432x288 with 1 Axes>"
      ]
     },
     "metadata": {
      "needs_background": "light"
     },
     "output_type": "display_data"
    }
   ],
   "source": [
    "plt.imshow(mat_data[\"im0\"],\"gray\")"
   ]
  },
  {
   "cell_type": "code",
   "execution_count": 5,
   "metadata": {},
   "outputs": [],
   "source": [
    "params = mat_data[\"params\"]\n",
    "params = params[0][0]"
   ]
  },
  {
   "cell_type": "code",
   "execution_count": 6,
   "metadata": {},
   "outputs": [
    {
     "name": "stderr",
     "output_type": "stream",
     "text": [
      "/home/yusuke/Desktop/Steerable-pyramid/sutils.py:751: RuntimeWarning: invalid value encountered in double_scalars\n",
      "  _skew = np.mean(np.mean( (image -_mean)**3 ))/_var**(3/2)\n",
      "/home/yusuke/Desktop/Steerable-pyramid/sutils.py:752: RuntimeWarning: invalid value encountered in double_scalars\n",
      "  _kurt = np.mean(np.mean( (image -_mean)**4 ))/_var**(2)\n"
     ]
    }
   ],
   "source": [
    "orig_data = ta.TextureAnalysis(im, resol_x, resol_y, arg.num_depth, arg.num_ori, arg.num_neighbor)\n",
    "orig_data.analyse()"
   ]
  },
  {
   "cell_type": "code",
   "execution_count": 7,
   "metadata": {},
   "outputs": [],
   "source": [
    "N = 4\n",
    "K = 4\n",
    "M = 7"
   ]
  },
  {
   "cell_type": "code",
   "execution_count": 8,
   "metadata": {},
   "outputs": [
    {
     "data": {
      "text/plain": [
       "dtype([('pixelStats', 'O'), ('pixelLPStats', 'O'), ('autoCorrReal', 'O'), ('autoCorrMag', 'O'), ('magMeans', 'O'), ('cousinMagCorr', 'O'), ('parentMagCorr', 'O'), ('cousinRealCorr', 'O'), ('parentRealCorr', 'O'), ('varianceHPR', 'O')])"
      ]
     },
     "execution_count": 8,
     "metadata": {},
     "output_type": "execute_result"
    }
   ],
   "source": [
    "params.dtype"
   ]
  },
  {
   "cell_type": "code",
   "execution_count": 9,
   "metadata": {},
   "outputs": [],
   "source": [
    "param_count = np.zeros([10])"
   ]
  },
  {
   "cell_type": "markdown",
   "metadata": {},
   "source": [
    "# 0. pixelStats IM_MAR\n",
    "$6$\n",
    "\n",
    " 元画像のmean,variance,skew,kurtosis,minimum,maximum \n",
    " \n",
    "- 等しい\n",
    "- 互いに6次元"
   ]
  },
  {
   "cell_type": "code",
   "execution_count": 10,
   "metadata": {},
   "outputs": [],
   "source": [
    "param_count[0] = 6"
   ]
  },
  {
   "cell_type": "code",
   "execution_count": 11,
   "metadata": {},
   "outputs": [
    {
     "data": {
      "text/html": [
       "<div>\n",
       "<style scoped>\n",
       "    .dataframe tbody tr th:only-of-type {\n",
       "        vertical-align: middle;\n",
       "    }\n",
       "\n",
       "    .dataframe tbody tr th {\n",
       "        vertical-align: top;\n",
       "    }\n",
       "\n",
       "    .dataframe thead th {\n",
       "        text-align: right;\n",
       "    }\n",
       "</style>\n",
       "<table border=\"1\" class=\"dataframe\">\n",
       "  <thead>\n",
       "    <tr style=\"text-align: right;\">\n",
       "      <th></th>\n",
       "      <th>0</th>\n",
       "      <th>1</th>\n",
       "      <th>2</th>\n",
       "      <th>3</th>\n",
       "      <th>4</th>\n",
       "      <th>5</th>\n",
       "    </tr>\n",
       "  </thead>\n",
       "  <tbody>\n",
       "    <tr>\n",
       "      <th>0</th>\n",
       "      <td>222.196289</td>\n",
       "      <td>3525.883435</td>\n",
       "      <td>-1.878269</td>\n",
       "      <td>5.57467</td>\n",
       "      <td>0.0</td>\n",
       "      <td>255.0</td>\n",
       "    </tr>\n",
       "  </tbody>\n",
       "</table>\n",
       "</div>"
      ],
      "text/plain": [
       "            0            1         2        3    4      5\n",
       "0  222.196289  3525.883435 -1.878269  5.57467  0.0  255.0"
      ]
     },
     "execution_count": 11,
     "metadata": {},
     "output_type": "execute_result"
    }
   ],
   "source": [
    "df(params[0])"
   ]
  },
  {
   "cell_type": "code",
   "execution_count": 12,
   "metadata": {},
   "outputs": [
    {
     "data": {
      "text/html": [
       "<div>\n",
       "<style scoped>\n",
       "    .dataframe tbody tr th:only-of-type {\n",
       "        vertical-align: middle;\n",
       "    }\n",
       "\n",
       "    .dataframe tbody tr th {\n",
       "        vertical-align: top;\n",
       "    }\n",
       "\n",
       "    .dataframe thead th {\n",
       "        text-align: right;\n",
       "    }\n",
       "</style>\n",
       "<table border=\"1\" class=\"dataframe\">\n",
       "  <thead>\n",
       "    <tr style=\"text-align: right;\">\n",
       "      <th></th>\n",
       "      <th>0</th>\n",
       "      <th>1</th>\n",
       "      <th>2</th>\n",
       "      <th>3</th>\n",
       "      <th>4</th>\n",
       "      <th>5</th>\n",
       "    </tr>\n",
       "  </thead>\n",
       "  <tbody>\n",
       "    <tr>\n",
       "      <th>0</th>\n",
       "      <td>222.196289</td>\n",
       "      <td>3525.883435</td>\n",
       "      <td>-1.878269</td>\n",
       "      <td>5.57467</td>\n",
       "      <td>255.0</td>\n",
       "      <td>0.0</td>\n",
       "    </tr>\n",
       "  </tbody>\n",
       "</table>\n",
       "</div>"
      ],
      "text/plain": [
       "            0            1         2        3      4    5\n",
       "0  222.196289  3525.883435 -1.878269  5.57467  255.0  0.0"
      ]
     },
     "execution_count": 12,
     "metadata": {},
     "output_type": "execute_result"
    }
   ],
   "source": [
    "df(orig_data.IM_MAR).T"
   ]
  },
  {
   "cell_type": "markdown",
   "metadata": {},
   "source": [
    "# 1 pixelLPStats LR_MARとCF_MAR\n",
    "\n",
    "$2(N+1)$\n",
    "\n",
    "- 部分的に再構成されたローパス画像の歪度と尖度\n",
    "- params[N+1][2]\n",
    "- CF_MAR[N][2:4] + LR_MAR[2:4]"
   ]
  },
  {
   "cell_type": "code",
   "execution_count": 13,
   "metadata": {},
   "outputs": [],
   "source": [
    "param_count[1] = 2 * (N+1)"
   ]
  },
  {
   "cell_type": "code",
   "execution_count": 14,
   "metadata": {},
   "outputs": [
    {
     "data": {
      "text/html": [
       "<div>\n",
       "<style scoped>\n",
       "    .dataframe tbody tr th:only-of-type {\n",
       "        vertical-align: middle;\n",
       "    }\n",
       "\n",
       "    .dataframe tbody tr th {\n",
       "        vertical-align: top;\n",
       "    }\n",
       "\n",
       "    .dataframe thead th {\n",
       "        text-align: right;\n",
       "    }\n",
       "</style>\n",
       "<table border=\"1\" class=\"dataframe\">\n",
       "  <thead>\n",
       "    <tr style=\"text-align: right;\">\n",
       "      <th></th>\n",
       "      <th>0</th>\n",
       "      <th>1</th>\n",
       "      <th>2</th>\n",
       "      <th>3</th>\n",
       "      <th>4</th>\n",
       "    </tr>\n",
       "  </thead>\n",
       "  <tbody>\n",
       "    <tr>\n",
       "      <th>0</th>\n",
       "      <td>-1.788675</td>\n",
       "      <td>-1.183097</td>\n",
       "      <td>-0.588446</td>\n",
       "      <td>-0.378953</td>\n",
       "      <td>0.0</td>\n",
       "    </tr>\n",
       "    <tr>\n",
       "      <th>1</th>\n",
       "      <td>5.196226</td>\n",
       "      <td>3.371317</td>\n",
       "      <td>1.852543</td>\n",
       "      <td>2.621126</td>\n",
       "      <td>3.0</td>\n",
       "    </tr>\n",
       "  </tbody>\n",
       "</table>\n",
       "</div>"
      ],
      "text/plain": [
       "          0         1         2         3    4\n",
       "0 -1.788675 -1.183097 -0.588446 -0.378953  0.0\n",
       "1  5.196226  3.371317  1.852543  2.621126  3.0"
      ]
     },
     "execution_count": 14,
     "metadata": {},
     "output_type": "execute_result"
    }
   ],
   "source": [
    "df(params[1]).T"
   ]
  },
  {
   "cell_type": "code",
   "execution_count": 15,
   "metadata": {},
   "outputs": [
    {
     "data": {
      "text/html": [
       "<div>\n",
       "<style scoped>\n",
       "    .dataframe tbody tr th:only-of-type {\n",
       "        vertical-align: middle;\n",
       "    }\n",
       "\n",
       "    .dataframe tbody tr th {\n",
       "        vertical-align: top;\n",
       "    }\n",
       "\n",
       "    .dataframe thead th {\n",
       "        text-align: right;\n",
       "    }\n",
       "</style>\n",
       "<table border=\"1\" class=\"dataframe\">\n",
       "  <thead>\n",
       "    <tr style=\"text-align: right;\">\n",
       "      <th></th>\n",
       "      <th>0</th>\n",
       "      <th>1</th>\n",
       "      <th>2</th>\n",
       "      <th>3</th>\n",
       "    </tr>\n",
       "  </thead>\n",
       "  <tbody>\n",
       "    <tr>\n",
       "      <th>0</th>\n",
       "      <td>-1.788634</td>\n",
       "      <td>-1.182989</td>\n",
       "      <td>-0.588230</td>\n",
       "      <td>-0.378398</td>\n",
       "    </tr>\n",
       "    <tr>\n",
       "      <th>1</th>\n",
       "      <td>5.196068</td>\n",
       "      <td>3.370905</td>\n",
       "      <td>1.851638</td>\n",
       "      <td>2.616009</td>\n",
       "    </tr>\n",
       "  </tbody>\n",
       "</table>\n",
       "</div>"
      ],
      "text/plain": [
       "          0         1         2         3\n",
       "0 -1.788634 -1.182989 -0.588230 -0.378398\n",
       "1  5.196068  3.370905  1.851638  2.616009"
      ]
     },
     "execution_count": 15,
     "metadata": {},
     "output_type": "execute_result"
    }
   ],
   "source": [
    "df(np.array(orig_data.CF_MAR)[:,2:4]).T"
   ]
  },
  {
   "cell_type": "code",
   "execution_count": 16,
   "metadata": {},
   "outputs": [
    {
     "data": {
      "text/plain": [
       "[0, 3]"
      ]
     },
     "execution_count": 16,
     "metadata": {},
     "output_type": "execute_result"
    }
   ],
   "source": [
    "orig_data.LR_MAR[2:4]"
   ]
  },
  {
   "cell_type": "markdown",
   "metadata": {},
   "source": [
    "# 2 autoCorrReal  CF_CA and LR_CA\n",
    "$(N+1) * \\frac{(M^2+1)}{2}$\n",
    "\n",
    "各スケールで部分的に再構成されたローパス画像の自己相関のM*M\n",
    "\n",
    "- params[2] = [M,M,N+1] \n",
    "- CF_CF[N,M,M] + LR_CA[M,M]"
   ]
  },
  {
   "cell_type": "code",
   "execution_count": 17,
   "metadata": {},
   "outputs": [],
   "source": [
    "param_count[2] = (N+1) * (M**2 + 1)/2"
   ]
  },
  {
   "cell_type": "code",
   "execution_count": 18,
   "metadata": {},
   "outputs": [
    {
     "name": "stdout",
     "output_type": "stream",
     "text": [
      "(7, 7, 5)\n"
     ]
    }
   ],
   "source": [
    "print(params[2].shape)"
   ]
  },
  {
   "cell_type": "code",
   "execution_count": 20,
   "metadata": {},
   "outputs": [
    {
     "data": {
      "text/html": [
       "<div>\n",
       "<style scoped>\n",
       "    .dataframe tbody tr th:only-of-type {\n",
       "        vertical-align: middle;\n",
       "    }\n",
       "\n",
       "    .dataframe tbody tr th {\n",
       "        vertical-align: top;\n",
       "    }\n",
       "\n",
       "    .dataframe thead th {\n",
       "        text-align: right;\n",
       "    }\n",
       "</style>\n",
       "<table border=\"1\" class=\"dataframe\">\n",
       "  <thead>\n",
       "    <tr style=\"text-align: right;\">\n",
       "      <th></th>\n",
       "      <th>0</th>\n",
       "      <th>1</th>\n",
       "      <th>2</th>\n",
       "      <th>3</th>\n",
       "      <th>4</th>\n",
       "      <th>5</th>\n",
       "      <th>6</th>\n",
       "    </tr>\n",
       "  </thead>\n",
       "  <tbody>\n",
       "    <tr>\n",
       "      <th>0</th>\n",
       "      <td>4584.098019</td>\n",
       "      <td>9805.966829</td>\n",
       "      <td>10696.654354</td>\n",
       "      <td>9888.208358</td>\n",
       "      <td>10558.051801</td>\n",
       "      <td>9741.541201</td>\n",
       "      <td>4593.424974</td>\n",
       "    </tr>\n",
       "    <tr>\n",
       "      <th>1</th>\n",
       "      <td>-2055.616641</td>\n",
       "      <td>-413.500116</td>\n",
       "      <td>5311.397562</td>\n",
       "      <td>9072.341752</td>\n",
       "      <td>5178.161936</td>\n",
       "      <td>-443.741356</td>\n",
       "      <td>-2010.024767</td>\n",
       "    </tr>\n",
       "    <tr>\n",
       "      <th>2</th>\n",
       "      <td>6740.530253</td>\n",
       "      <td>7164.581075</td>\n",
       "      <td>19070.410505</td>\n",
       "      <td>27798.555635</td>\n",
       "      <td>18986.860701</td>\n",
       "      <td>7155.636787</td>\n",
       "      <td>6777.708809</td>\n",
       "    </tr>\n",
       "    <tr>\n",
       "      <th>3</th>\n",
       "      <td>15496.422437</td>\n",
       "      <td>16241.692582</td>\n",
       "      <td>31289.415838</td>\n",
       "      <td>42327.074100</td>\n",
       "      <td>31289.415838</td>\n",
       "      <td>16241.692582</td>\n",
       "      <td>15496.422437</td>\n",
       "    </tr>\n",
       "    <tr>\n",
       "      <th>4</th>\n",
       "      <td>6777.708809</td>\n",
       "      <td>7155.636787</td>\n",
       "      <td>18986.860701</td>\n",
       "      <td>27798.555635</td>\n",
       "      <td>19070.410505</td>\n",
       "      <td>7164.581075</td>\n",
       "      <td>6740.530253</td>\n",
       "    </tr>\n",
       "    <tr>\n",
       "      <th>5</th>\n",
       "      <td>-2010.024767</td>\n",
       "      <td>-443.741356</td>\n",
       "      <td>5178.161936</td>\n",
       "      <td>9072.341752</td>\n",
       "      <td>5311.397562</td>\n",
       "      <td>-413.500116</td>\n",
       "      <td>-2055.616641</td>\n",
       "    </tr>\n",
       "    <tr>\n",
       "      <th>6</th>\n",
       "      <td>4593.424974</td>\n",
       "      <td>9741.541201</td>\n",
       "      <td>10558.051801</td>\n",
       "      <td>9888.208358</td>\n",
       "      <td>10696.654354</td>\n",
       "      <td>9805.966829</td>\n",
       "      <td>4584.098019</td>\n",
       "    </tr>\n",
       "  </tbody>\n",
       "</table>\n",
       "</div>"
      ],
      "text/plain": [
       "              0             1             2             3             4  \\\n",
       "0   4584.098019   9805.966829  10696.654354   9888.208358  10558.051801   \n",
       "1  -2055.616641   -413.500116   5311.397562   9072.341752   5178.161936   \n",
       "2   6740.530253   7164.581075  19070.410505  27798.555635  18986.860701   \n",
       "3  15496.422437  16241.692582  31289.415838  42327.074100  31289.415838   \n",
       "4   6777.708809   7155.636787  18986.860701  27798.555635  19070.410505   \n",
       "5  -2010.024767   -443.741356   5178.161936   9072.341752   5311.397562   \n",
       "6   4593.424974   9741.541201  10558.051801   9888.208358  10696.654354   \n",
       "\n",
       "              5             6  \n",
       "0   9741.541201   4593.424974  \n",
       "1   -443.741356  -2010.024767  \n",
       "2   7155.636787   6777.708809  \n",
       "3  16241.692582  15496.422437  \n",
       "4   7164.581075   6740.530253  \n",
       "5   -413.500116  -2055.616641  \n",
       "6   9805.966829   4584.098019  "
      ]
     },
     "execution_count": 20,
     "metadata": {},
     "output_type": "execute_result"
    }
   ],
   "source": [
    "df(params[2][:,:,1]) # 4 = LR_CA"
   ]
  },
  {
   "cell_type": "code",
   "execution_count": 21,
   "metadata": {},
   "outputs": [
    {
     "data": {
      "text/html": [
       "<div>\n",
       "<style scoped>\n",
       "    .dataframe tbody tr th:only-of-type {\n",
       "        vertical-align: middle;\n",
       "    }\n",
       "\n",
       "    .dataframe tbody tr th {\n",
       "        vertical-align: top;\n",
       "    }\n",
       "\n",
       "    .dataframe thead th {\n",
       "        text-align: right;\n",
       "    }\n",
       "</style>\n",
       "<table border=\"1\" class=\"dataframe\">\n",
       "  <thead>\n",
       "    <tr style=\"text-align: right;\">\n",
       "      <th></th>\n",
       "      <th>0</th>\n",
       "      <th>1</th>\n",
       "      <th>2</th>\n",
       "      <th>3</th>\n",
       "      <th>4</th>\n",
       "      <th>5</th>\n",
       "      <th>6</th>\n",
       "    </tr>\n",
       "  </thead>\n",
       "  <tbody>\n",
       "    <tr>\n",
       "      <th>0</th>\n",
       "      <td>4584.098019</td>\n",
       "      <td>9805.966829</td>\n",
       "      <td>10696.654354</td>\n",
       "      <td>9888.208358</td>\n",
       "      <td>10558.051801</td>\n",
       "      <td>9741.541201</td>\n",
       "      <td>4593.424974</td>\n",
       "    </tr>\n",
       "    <tr>\n",
       "      <th>1</th>\n",
       "      <td>-2055.616641</td>\n",
       "      <td>-413.500116</td>\n",
       "      <td>5311.397562</td>\n",
       "      <td>9072.341752</td>\n",
       "      <td>5178.161936</td>\n",
       "      <td>-443.741356</td>\n",
       "      <td>-2010.024767</td>\n",
       "    </tr>\n",
       "    <tr>\n",
       "      <th>2</th>\n",
       "      <td>6740.530253</td>\n",
       "      <td>7164.581075</td>\n",
       "      <td>19070.410505</td>\n",
       "      <td>27798.555635</td>\n",
       "      <td>18986.860701</td>\n",
       "      <td>7155.636787</td>\n",
       "      <td>6777.708809</td>\n",
       "    </tr>\n",
       "    <tr>\n",
       "      <th>3</th>\n",
       "      <td>15496.422437</td>\n",
       "      <td>16241.692582</td>\n",
       "      <td>31289.415838</td>\n",
       "      <td>42327.074100</td>\n",
       "      <td>31289.415838</td>\n",
       "      <td>16241.692582</td>\n",
       "      <td>15496.422437</td>\n",
       "    </tr>\n",
       "    <tr>\n",
       "      <th>4</th>\n",
       "      <td>6777.708809</td>\n",
       "      <td>7155.636787</td>\n",
       "      <td>18986.860701</td>\n",
       "      <td>27798.555635</td>\n",
       "      <td>19070.410505</td>\n",
       "      <td>7164.581075</td>\n",
       "      <td>6740.530253</td>\n",
       "    </tr>\n",
       "    <tr>\n",
       "      <th>5</th>\n",
       "      <td>-2010.024767</td>\n",
       "      <td>-443.741356</td>\n",
       "      <td>5178.161936</td>\n",
       "      <td>9072.341752</td>\n",
       "      <td>5311.397562</td>\n",
       "      <td>-413.500116</td>\n",
       "      <td>-2055.616641</td>\n",
       "    </tr>\n",
       "    <tr>\n",
       "      <th>6</th>\n",
       "      <td>4593.424974</td>\n",
       "      <td>9741.541201</td>\n",
       "      <td>10558.051801</td>\n",
       "      <td>9888.208358</td>\n",
       "      <td>10696.654354</td>\n",
       "      <td>9805.966829</td>\n",
       "      <td>4584.098019</td>\n",
       "    </tr>\n",
       "  </tbody>\n",
       "</table>\n",
       "</div>"
      ],
      "text/plain": [
       "              0             1             2             3             4  \\\n",
       "0   4584.098019   9805.966829  10696.654354   9888.208358  10558.051801   \n",
       "1  -2055.616641   -413.500116   5311.397562   9072.341752   5178.161936   \n",
       "2   6740.530253   7164.581075  19070.410505  27798.555635  18986.860701   \n",
       "3  15496.422437  16241.692582  31289.415838  42327.074100  31289.415838   \n",
       "4   6777.708809   7155.636787  18986.860701  27798.555635  19070.410505   \n",
       "5  -2010.024767   -443.741356   5178.161936   9072.341752   5311.397562   \n",
       "6   4593.424974   9741.541201  10558.051801   9888.208358  10696.654354   \n",
       "\n",
       "              5             6  \n",
       "0   9741.541201   4593.424974  \n",
       "1   -443.741356  -2010.024767  \n",
       "2   7155.636787   6777.708809  \n",
       "3  16241.692582  15496.422437  \n",
       "4   7164.581075   6740.530253  \n",
       "5   -413.500116  -2055.616641  \n",
       "6   9805.966829   4584.098019  "
      ]
     },
     "execution_count": 21,
     "metadata": {},
     "output_type": "execute_result"
    }
   ],
   "source": [
    "df(orig_data.CF_CA[1])"
   ]
  },
  {
   "cell_type": "code",
   "execution_count": 41,
   "metadata": {},
   "outputs": [
    {
     "data": {
      "text/html": [
       "<div>\n",
       "<style scoped>\n",
       "    .dataframe tbody tr th:only-of-type {\n",
       "        vertical-align: middle;\n",
       "    }\n",
       "\n",
       "    .dataframe tbody tr th {\n",
       "        vertical-align: top;\n",
       "    }\n",
       "\n",
       "    .dataframe thead th {\n",
       "        text-align: right;\n",
       "    }\n",
       "</style>\n",
       "<table border=\"1\" class=\"dataframe\">\n",
       "  <thead>\n",
       "    <tr style=\"text-align: right;\">\n",
       "      <th></th>\n",
       "      <th>0</th>\n",
       "      <th>1</th>\n",
       "      <th>2</th>\n",
       "      <th>3</th>\n",
       "      <th>4</th>\n",
       "      <th>5</th>\n",
       "      <th>6</th>\n",
       "    </tr>\n",
       "  </thead>\n",
       "  <tbody>\n",
       "    <tr>\n",
       "      <th>0</th>\n",
       "      <td>0.0</td>\n",
       "      <td>0.0</td>\n",
       "      <td>0.0</td>\n",
       "      <td>0.0</td>\n",
       "      <td>0.0</td>\n",
       "      <td>0.0</td>\n",
       "      <td>0.0</td>\n",
       "    </tr>\n",
       "    <tr>\n",
       "      <th>1</th>\n",
       "      <td>0.0</td>\n",
       "      <td>0.0</td>\n",
       "      <td>0.0</td>\n",
       "      <td>0.0</td>\n",
       "      <td>0.0</td>\n",
       "      <td>0.0</td>\n",
       "      <td>0.0</td>\n",
       "    </tr>\n",
       "    <tr>\n",
       "      <th>2</th>\n",
       "      <td>0.0</td>\n",
       "      <td>0.0</td>\n",
       "      <td>0.0</td>\n",
       "      <td>0.0</td>\n",
       "      <td>0.0</td>\n",
       "      <td>0.0</td>\n",
       "      <td>0.0</td>\n",
       "    </tr>\n",
       "    <tr>\n",
       "      <th>3</th>\n",
       "      <td>0.0</td>\n",
       "      <td>0.0</td>\n",
       "      <td>0.0</td>\n",
       "      <td>0.0</td>\n",
       "      <td>0.0</td>\n",
       "      <td>0.0</td>\n",
       "      <td>0.0</td>\n",
       "    </tr>\n",
       "    <tr>\n",
       "      <th>4</th>\n",
       "      <td>0.0</td>\n",
       "      <td>0.0</td>\n",
       "      <td>0.0</td>\n",
       "      <td>0.0</td>\n",
       "      <td>0.0</td>\n",
       "      <td>0.0</td>\n",
       "      <td>0.0</td>\n",
       "    </tr>\n",
       "    <tr>\n",
       "      <th>5</th>\n",
       "      <td>0.0</td>\n",
       "      <td>0.0</td>\n",
       "      <td>0.0</td>\n",
       "      <td>0.0</td>\n",
       "      <td>0.0</td>\n",
       "      <td>0.0</td>\n",
       "      <td>0.0</td>\n",
       "    </tr>\n",
       "    <tr>\n",
       "      <th>6</th>\n",
       "      <td>0.0</td>\n",
       "      <td>0.0</td>\n",
       "      <td>0.0</td>\n",
       "      <td>0.0</td>\n",
       "      <td>0.0</td>\n",
       "      <td>0.0</td>\n",
       "      <td>0.0</td>\n",
       "    </tr>\n",
       "  </tbody>\n",
       "</table>\n",
       "</div>"
      ],
      "text/plain": [
       "     0    1    2    3    4    5    6\n",
       "0  0.0  0.0  0.0  0.0  0.0  0.0  0.0\n",
       "1  0.0  0.0  0.0  0.0  0.0  0.0  0.0\n",
       "2  0.0  0.0  0.0  0.0  0.0  0.0  0.0\n",
       "3  0.0  0.0  0.0  0.0  0.0  0.0  0.0\n",
       "4  0.0  0.0  0.0  0.0  0.0  0.0  0.0\n",
       "5  0.0  0.0  0.0  0.0  0.0  0.0  0.0\n",
       "6  0.0  0.0  0.0  0.0  0.0  0.0  0.0"
      ]
     },
     "execution_count": 41,
     "metadata": {},
     "output_type": "execute_result"
    }
   ],
   "source": [
    "df(orig_data.LR_CA)"
   ]
  },
  {
   "cell_type": "code",
   "execution_count": 22,
   "metadata": {},
   "outputs": [],
   "source": [
    "a = copy.copy(orig_data.LR[\"s\"])"
   ]
  },
  {
   "cell_type": "code",
   "execution_count": 23,
   "metadata": {},
   "outputs": [],
   "source": [
    "a = a - a.mean()"
   ]
  },
  {
   "cell_type": "code",
   "execution_count": 24,
   "metadata": {},
   "outputs": [
    {
     "data": {
      "text/plain": [
       "6.309180055109966"
      ]
     },
     "execution_count": 24,
     "metadata": {},
     "output_type": "execute_result"
    }
   ],
   "source": [
    "np.dot(a.flatten(),a.flatten())/256"
   ]
  },
  {
   "cell_type": "markdown",
   "metadata": {},
   "source": [
    "# 3.autoCorrMag  BND_MCOR\n",
    "\n",
    "$N*K*\\frac{M^2 + 1}{2}$\n",
    "\n",
    "- 各サブバンドの画像の絶対値の自己相関の中央サンプルM*M\n",
    "- pythonとちがう\n",
    "- params[3] = [M,M,N,K]\n",
    "- BND_MCOR[N,K,M,M]"
   ]
  },
  {
   "cell_type": "code",
   "execution_count": 22,
   "metadata": {},
   "outputs": [],
   "source": [
    "param_count[3] =  N * K * (M**2 + 1)/2"
   ]
  },
  {
   "cell_type": "code",
   "execution_count": 23,
   "metadata": {},
   "outputs": [
    {
     "data": {
      "text/plain": [
       "(7, 7, 4, 4)"
      ]
     },
     "execution_count": 23,
     "metadata": {},
     "output_type": "execute_result"
    }
   ],
   "source": [
    "params[3].shape"
   ]
  },
  {
   "cell_type": "code",
   "execution_count": 24,
   "metadata": {},
   "outputs": [
    {
     "data": {
      "text/html": [
       "<div>\n",
       "<style scoped>\n",
       "    .dataframe tbody tr th:only-of-type {\n",
       "        vertical-align: middle;\n",
       "    }\n",
       "\n",
       "    .dataframe tbody tr th {\n",
       "        vertical-align: top;\n",
       "    }\n",
       "\n",
       "    .dataframe thead th {\n",
       "        text-align: right;\n",
       "    }\n",
       "</style>\n",
       "<table border=\"1\" class=\"dataframe\">\n",
       "  <thead>\n",
       "    <tr style=\"text-align: right;\">\n",
       "      <th></th>\n",
       "      <th>0</th>\n",
       "      <th>1</th>\n",
       "      <th>2</th>\n",
       "      <th>3</th>\n",
       "      <th>4</th>\n",
       "      <th>5</th>\n",
       "      <th>6</th>\n",
       "    </tr>\n",
       "  </thead>\n",
       "  <tbody>\n",
       "    <tr>\n",
       "      <th>0</th>\n",
       "      <td>32.275510</td>\n",
       "      <td>46.987519</td>\n",
       "      <td>55.479584</td>\n",
       "      <td>48.350316</td>\n",
       "      <td>45.058760</td>\n",
       "      <td>52.647792</td>\n",
       "      <td>54.017337</td>\n",
       "    </tr>\n",
       "    <tr>\n",
       "      <th>1</th>\n",
       "      <td>44.306377</td>\n",
       "      <td>54.969662</td>\n",
       "      <td>49.968426</td>\n",
       "      <td>49.786908</td>\n",
       "      <td>62.913680</td>\n",
       "      <td>67.311390</td>\n",
       "      <td>49.744653</td>\n",
       "    </tr>\n",
       "    <tr>\n",
       "      <th>2</th>\n",
       "      <td>51.482141</td>\n",
       "      <td>48.583728</td>\n",
       "      <td>50.652037</td>\n",
       "      <td>69.022746</td>\n",
       "      <td>78.797208</td>\n",
       "      <td>60.371556</td>\n",
       "      <td>40.788573</td>\n",
       "    </tr>\n",
       "    <tr>\n",
       "      <th>3</th>\n",
       "      <td>44.255469</td>\n",
       "      <td>47.265978</td>\n",
       "      <td>67.947749</td>\n",
       "      <td>83.593219</td>\n",
       "      <td>67.947749</td>\n",
       "      <td>47.265978</td>\n",
       "      <td>44.255469</td>\n",
       "    </tr>\n",
       "    <tr>\n",
       "      <th>4</th>\n",
       "      <td>40.788573</td>\n",
       "      <td>60.371556</td>\n",
       "      <td>78.797208</td>\n",
       "      <td>69.022746</td>\n",
       "      <td>50.652037</td>\n",
       "      <td>48.583728</td>\n",
       "      <td>51.482141</td>\n",
       "    </tr>\n",
       "    <tr>\n",
       "      <th>5</th>\n",
       "      <td>49.744653</td>\n",
       "      <td>67.311390</td>\n",
       "      <td>62.913680</td>\n",
       "      <td>49.786908</td>\n",
       "      <td>49.968426</td>\n",
       "      <td>54.969662</td>\n",
       "      <td>44.306377</td>\n",
       "    </tr>\n",
       "    <tr>\n",
       "      <th>6</th>\n",
       "      <td>54.017337</td>\n",
       "      <td>52.647792</td>\n",
       "      <td>45.058760</td>\n",
       "      <td>48.350316</td>\n",
       "      <td>55.479584</td>\n",
       "      <td>46.987519</td>\n",
       "      <td>32.275510</td>\n",
       "    </tr>\n",
       "  </tbody>\n",
       "</table>\n",
       "</div>"
      ],
      "text/plain": [
       "           0          1          2          3          4          5          6\n",
       "0  32.275510  46.987519  55.479584  48.350316  45.058760  52.647792  54.017337\n",
       "1  44.306377  54.969662  49.968426  49.786908  62.913680  67.311390  49.744653\n",
       "2  51.482141  48.583728  50.652037  69.022746  78.797208  60.371556  40.788573\n",
       "3  44.255469  47.265978  67.947749  83.593219  67.947749  47.265978  44.255469\n",
       "4  40.788573  60.371556  78.797208  69.022746  50.652037  48.583728  51.482141\n",
       "5  49.744653  67.311390  62.913680  49.786908  49.968426  54.969662  44.306377\n",
       "6  54.017337  52.647792  45.058760  48.350316  55.479584  46.987519  32.275510"
      ]
     },
     "execution_count": 24,
     "metadata": {},
     "output_type": "execute_result"
    }
   ],
   "source": [
    "df(params[3][:,:,0,3])"
   ]
  },
  {
   "cell_type": "code",
   "execution_count": 25,
   "metadata": {},
   "outputs": [
    {
     "data": {
      "text/html": [
       "<div>\n",
       "<style scoped>\n",
       "    .dataframe tbody tr th:only-of-type {\n",
       "        vertical-align: middle;\n",
       "    }\n",
       "\n",
       "    .dataframe tbody tr th {\n",
       "        vertical-align: top;\n",
       "    }\n",
       "\n",
       "    .dataframe thead th {\n",
       "        text-align: right;\n",
       "    }\n",
       "</style>\n",
       "<table border=\"1\" class=\"dataframe\">\n",
       "  <thead>\n",
       "    <tr style=\"text-align: right;\">\n",
       "      <th></th>\n",
       "      <th>0</th>\n",
       "      <th>1</th>\n",
       "      <th>2</th>\n",
       "      <th>3</th>\n",
       "      <th>4</th>\n",
       "      <th>5</th>\n",
       "      <th>6</th>\n",
       "    </tr>\n",
       "  </thead>\n",
       "  <tbody>\n",
       "    <tr>\n",
       "      <th>0</th>\n",
       "      <td>32.275510</td>\n",
       "      <td>46.987519</td>\n",
       "      <td>55.479584</td>\n",
       "      <td>48.350316</td>\n",
       "      <td>45.058760</td>\n",
       "      <td>52.647792</td>\n",
       "      <td>54.017337</td>\n",
       "    </tr>\n",
       "    <tr>\n",
       "      <th>1</th>\n",
       "      <td>44.306377</td>\n",
       "      <td>54.969662</td>\n",
       "      <td>49.968426</td>\n",
       "      <td>49.786908</td>\n",
       "      <td>62.913680</td>\n",
       "      <td>67.311390</td>\n",
       "      <td>49.744653</td>\n",
       "    </tr>\n",
       "    <tr>\n",
       "      <th>2</th>\n",
       "      <td>51.482141</td>\n",
       "      <td>48.583728</td>\n",
       "      <td>50.652037</td>\n",
       "      <td>69.022746</td>\n",
       "      <td>78.797208</td>\n",
       "      <td>60.371556</td>\n",
       "      <td>40.788573</td>\n",
       "    </tr>\n",
       "    <tr>\n",
       "      <th>3</th>\n",
       "      <td>44.255469</td>\n",
       "      <td>47.265978</td>\n",
       "      <td>67.947749</td>\n",
       "      <td>83.593219</td>\n",
       "      <td>67.947749</td>\n",
       "      <td>47.265978</td>\n",
       "      <td>44.255469</td>\n",
       "    </tr>\n",
       "    <tr>\n",
       "      <th>4</th>\n",
       "      <td>40.788573</td>\n",
       "      <td>60.371556</td>\n",
       "      <td>78.797208</td>\n",
       "      <td>69.022746</td>\n",
       "      <td>50.652037</td>\n",
       "      <td>48.583728</td>\n",
       "      <td>51.482141</td>\n",
       "    </tr>\n",
       "    <tr>\n",
       "      <th>5</th>\n",
       "      <td>49.744653</td>\n",
       "      <td>67.311390</td>\n",
       "      <td>62.913680</td>\n",
       "      <td>49.786908</td>\n",
       "      <td>49.968426</td>\n",
       "      <td>54.969662</td>\n",
       "      <td>44.306377</td>\n",
       "    </tr>\n",
       "    <tr>\n",
       "      <th>6</th>\n",
       "      <td>54.017337</td>\n",
       "      <td>52.647792</td>\n",
       "      <td>45.058760</td>\n",
       "      <td>48.350316</td>\n",
       "      <td>55.479584</td>\n",
       "      <td>46.987519</td>\n",
       "      <td>32.275510</td>\n",
       "    </tr>\n",
       "  </tbody>\n",
       "</table>\n",
       "</div>"
      ],
      "text/plain": [
       "           0          1          2          3          4          5          6\n",
       "0  32.275510  46.987519  55.479584  48.350316  45.058760  52.647792  54.017337\n",
       "1  44.306377  54.969662  49.968426  49.786908  62.913680  67.311390  49.744653\n",
       "2  51.482141  48.583728  50.652037  69.022746  78.797208  60.371556  40.788573\n",
       "3  44.255469  47.265978  67.947749  83.593219  67.947749  47.265978  44.255469\n",
       "4  40.788573  60.371556  78.797208  69.022746  50.652037  48.583728  51.482141\n",
       "5  49.744653  67.311390  62.913680  49.786908  49.968426  54.969662  44.306377\n",
       "6  54.017337  52.647792  45.058760  48.350316  55.479584  46.987519  32.275510"
      ]
     },
     "execution_count": 25,
     "metadata": {},
     "output_type": "execute_result"
    }
   ],
   "source": [
    "df(orig_data.BND_MCOR[0][3])"
   ]
  },
  {
   "cell_type": "markdown",
   "metadata": {},
   "source": [
    "# 4.magMeans BND_MMAR\n",
    "\n",
    "$N*K$\n",
    "\n",
    "- 各スケール，各サブバンドにおける絶対値の平均値\n",
    "- 絶対値がらみはpythonと違うっぽい\n",
    "\n",
    "- params[4] = [18,1] L0 と H0が含まれているため\n",
    "\n",
    "- BND_MMAR[N,K][6] [0]を抜き出すことになる "
   ]
  },
  {
   "cell_type": "code",
   "execution_count": 26,
   "metadata": {},
   "outputs": [],
   "source": [
    "param_count[4] = N * K"
   ]
  },
  {
   "cell_type": "code",
   "execution_count": 27,
   "metadata": {},
   "outputs": [
    {
     "data": {
      "text/plain": [
       "(18, 1)"
      ]
     },
     "execution_count": 27,
     "metadata": {},
     "output_type": "execute_result"
    }
   ],
   "source": [
    "params[4].shape #H0 とL0 が含まれているため． 16 + 2"
   ]
  },
  {
   "cell_type": "code",
   "execution_count": 28,
   "metadata": {
    "scrolled": true
   },
   "outputs": [
    {
     "data": {
      "text/html": [
       "<div>\n",
       "<style scoped>\n",
       "    .dataframe tbody tr th:only-of-type {\n",
       "        vertical-align: middle;\n",
       "    }\n",
       "\n",
       "    .dataframe tbody tr th {\n",
       "        vertical-align: top;\n",
       "    }\n",
       "\n",
       "    .dataframe thead th {\n",
       "        text-align: right;\n",
       "    }\n",
       "</style>\n",
       "<table border=\"1\" class=\"dataframe\">\n",
       "  <thead>\n",
       "    <tr style=\"text-align: right;\">\n",
       "      <th></th>\n",
       "      <th>0</th>\n",
       "      <th>1</th>\n",
       "      <th>2</th>\n",
       "      <th>3</th>\n",
       "      <th>4</th>\n",
       "      <th>5</th>\n",
       "      <th>6</th>\n",
       "      <th>7</th>\n",
       "      <th>8</th>\n",
       "      <th>9</th>\n",
       "      <th>10</th>\n",
       "      <th>11</th>\n",
       "      <th>12</th>\n",
       "      <th>13</th>\n",
       "      <th>14</th>\n",
       "      <th>15</th>\n",
       "      <th>16</th>\n",
       "      <th>17</th>\n",
       "    </tr>\n",
       "  </thead>\n",
       "  <tbody>\n",
       "    <tr>\n",
       "      <th>0</th>\n",
       "      <td>4.441547</td>\n",
       "      <td>15.905799</td>\n",
       "      <td>10.578581</td>\n",
       "      <td>17.216618</td>\n",
       "      <td>10.508453</td>\n",
       "      <td>75.208884</td>\n",
       "      <td>70.013402</td>\n",
       "      <td>99.545267</td>\n",
       "      <td>70.082209</td>\n",
       "      <td>205.71842</td>\n",
       "      <td>201.275729</td>\n",
       "      <td>190.67966</td>\n",
       "      <td>202.396425</td>\n",
       "      <td>1939.865756</td>\n",
       "      <td>900.668615</td>\n",
       "      <td>1499.93915</td>\n",
       "      <td>901.678233</td>\n",
       "      <td>2.08845</td>\n",
       "    </tr>\n",
       "  </tbody>\n",
       "</table>\n",
       "</div>"
      ],
      "text/plain": [
       "         0          1          2          3          4          5          6   \\\n",
       "0  4.441547  15.905799  10.578581  17.216618  10.508453  75.208884  70.013402   \n",
       "\n",
       "          7          8          9           10         11          12  \\\n",
       "0  99.545267  70.082209  205.71842  201.275729  190.67966  202.396425   \n",
       "\n",
       "            13          14          15          16       17  \n",
       "0  1939.865756  900.668615  1499.93915  901.678233  2.08845  "
      ]
     },
     "execution_count": 28,
     "metadata": {},
     "output_type": "execute_result"
    }
   ],
   "source": [
    "df(params[4].reshape(1,-1))"
   ]
  },
  {
   "cell_type": "code",
   "execution_count": 29,
   "metadata": {
    "scrolled": true
   },
   "outputs": [
    {
     "data": {
      "text/html": [
       "<div>\n",
       "<style scoped>\n",
       "    .dataframe tbody tr th:only-of-type {\n",
       "        vertical-align: middle;\n",
       "    }\n",
       "\n",
       "    .dataframe tbody tr th {\n",
       "        vertical-align: top;\n",
       "    }\n",
       "\n",
       "    .dataframe thead th {\n",
       "        text-align: right;\n",
       "    }\n",
       "</style>\n",
       "<table border=\"1\" class=\"dataframe\">\n",
       "  <thead>\n",
       "    <tr style=\"text-align: right;\">\n",
       "      <th></th>\n",
       "      <th>0</th>\n",
       "      <th>1</th>\n",
       "      <th>2</th>\n",
       "      <th>3</th>\n",
       "      <th>4</th>\n",
       "      <th>5</th>\n",
       "      <th>6</th>\n",
       "      <th>7</th>\n",
       "      <th>8</th>\n",
       "      <th>9</th>\n",
       "      <th>10</th>\n",
       "      <th>11</th>\n",
       "      <th>12</th>\n",
       "      <th>13</th>\n",
       "      <th>14</th>\n",
       "      <th>15</th>\n",
       "    </tr>\n",
       "  </thead>\n",
       "  <tbody>\n",
       "    <tr>\n",
       "      <th>0</th>\n",
       "      <td>15.906233</td>\n",
       "      <td>10.579872</td>\n",
       "      <td>17.21807</td>\n",
       "      <td>10.507984</td>\n",
       "      <td>75.204111</td>\n",
       "      <td>70.014702</td>\n",
       "      <td>99.547857</td>\n",
       "      <td>70.076099</td>\n",
       "      <td>205.686098</td>\n",
       "      <td>201.25349</td>\n",
       "      <td>190.681158</td>\n",
       "      <td>202.378537</td>\n",
       "      <td>1940.051298</td>\n",
       "      <td>900.693287</td>\n",
       "      <td>1499.853544</td>\n",
       "      <td>901.720137</td>\n",
       "    </tr>\n",
       "  </tbody>\n",
       "</table>\n",
       "</div>"
      ],
      "text/plain": [
       "          0          1         2          3          4          5          6   \\\n",
       "0  15.906233  10.579872  17.21807  10.507984  75.204111  70.014702  99.547857   \n",
       "\n",
       "          7           8          9           10          11           12  \\\n",
       "0  70.076099  205.686098  201.25349  190.681158  202.378537  1940.051298   \n",
       "\n",
       "           13           14          15  \n",
       "0  900.693287  1499.853544  901.720137  "
      ]
     },
     "execution_count": 29,
     "metadata": {},
     "output_type": "execute_result"
    }
   ],
   "source": [
    "df(np.array(orig_data.BND_MMAR)[:,:,0].flatten()).T"
   ]
  },
  {
   "cell_type": "code",
   "execution_count": 30,
   "metadata": {},
   "outputs": [
    {
     "data": {
      "text/plain": [
       "array([-0.00043483, -0.00129133, -0.00145182,  0.00046858,  0.00477368,\n",
       "       -0.00130001, -0.00259035,  0.00610971,  0.03232194,  0.02223933,\n",
       "       -0.00149835,  0.01788783, -0.18554232, -0.02467171,  0.08560562,\n",
       "       -0.04190452])"
      ]
     },
     "execution_count": 30,
     "metadata": {},
     "output_type": "execute_result"
    }
   ],
   "source": [
    "params[4].reshape(-1)[1:17] - np.array(orig_data.BND_MMAR)[:,:,0].flatten()"
   ]
  },
  {
   "cell_type": "markdown",
   "metadata": {},
   "source": [
    "# 5.Cousin mag corr  　 CF_COUS\n",
    "$ N * \\frac{K*(K-1)}{2}$\n",
    "\n",
    "各スケールにおける，各サブバンド対の絶対値の相互相関\n",
    "\n",
    "- params[5] = [K,K,(N+1)]\n",
    "  - params[5][:,:,4] は0であることに注意\n",
    "  \n",
    "- CF_COUS[N,K,K]\n",
    "- 値はpythonのものとやっぱり違いそう\n",
    "\n",
    "- CF_COUS[]"
   ]
  },
  {
   "cell_type": "code",
   "execution_count": 31,
   "metadata": {},
   "outputs": [],
   "source": [
    "param_count[5] = N*(K*(K-1))/2"
   ]
  },
  {
   "cell_type": "code",
   "execution_count": 32,
   "metadata": {},
   "outputs": [
    {
     "data": {
      "text/plain": [
       "(4, 4, 5)"
      ]
     },
     "execution_count": 32,
     "metadata": {},
     "output_type": "execute_result"
    }
   ],
   "source": [
    "params[5].shape"
   ]
  },
  {
   "cell_type": "code",
   "execution_count": 33,
   "metadata": {},
   "outputs": [
    {
     "data": {
      "text/html": [
       "<div>\n",
       "<style scoped>\n",
       "    .dataframe tbody tr th:only-of-type {\n",
       "        vertical-align: middle;\n",
       "    }\n",
       "\n",
       "    .dataframe tbody tr th {\n",
       "        vertical-align: top;\n",
       "    }\n",
       "\n",
       "    .dataframe thead th {\n",
       "        text-align: right;\n",
       "    }\n",
       "</style>\n",
       "<table border=\"1\" class=\"dataframe\">\n",
       "  <thead>\n",
       "    <tr style=\"text-align: right;\">\n",
       "      <th></th>\n",
       "      <th>0</th>\n",
       "      <th>1</th>\n",
       "      <th>2</th>\n",
       "      <th>3</th>\n",
       "    </tr>\n",
       "  </thead>\n",
       "  <tbody>\n",
       "    <tr>\n",
       "      <th>0</th>\n",
       "      <td>291.117209</td>\n",
       "      <td>113.467555</td>\n",
       "      <td>155.254183</td>\n",
       "      <td>114.881275</td>\n",
       "    </tr>\n",
       "    <tr>\n",
       "      <th>1</th>\n",
       "      <td>113.467555</td>\n",
       "      <td>82.846866</td>\n",
       "      <td>113.168786</td>\n",
       "      <td>62.175825</td>\n",
       "    </tr>\n",
       "    <tr>\n",
       "      <th>2</th>\n",
       "      <td>155.254183</td>\n",
       "      <td>113.168786</td>\n",
       "      <td>256.844282</td>\n",
       "      <td>114.395316</td>\n",
       "    </tr>\n",
       "    <tr>\n",
       "      <th>3</th>\n",
       "      <td>114.881275</td>\n",
       "      <td>62.175825</td>\n",
       "      <td>114.395316</td>\n",
       "      <td>83.568361</td>\n",
       "    </tr>\n",
       "  </tbody>\n",
       "</table>\n",
       "</div>"
      ],
      "text/plain": [
       "            0           1           2           3\n",
       "0  291.117209  113.467555  155.254183  114.881275\n",
       "1  113.467555   82.846866  113.168786   62.175825\n",
       "2  155.254183  113.168786  256.844282  114.395316\n",
       "3  114.881275   62.175825  114.395316   83.568361"
      ]
     },
     "execution_count": 33,
     "metadata": {},
     "output_type": "execute_result"
    }
   ],
   "source": [
    "df(params[5][:,:,0])"
   ]
  },
  {
   "cell_type": "code",
   "execution_count": 34,
   "metadata": {},
   "outputs": [
    {
     "data": {
      "text/html": [
       "<div>\n",
       "<style scoped>\n",
       "    .dataframe tbody tr th:only-of-type {\n",
       "        vertical-align: middle;\n",
       "    }\n",
       "\n",
       "    .dataframe tbody tr th {\n",
       "        vertical-align: top;\n",
       "    }\n",
       "\n",
       "    .dataframe thead th {\n",
       "        text-align: right;\n",
       "    }\n",
       "</style>\n",
       "<table border=\"1\" class=\"dataframe\">\n",
       "  <thead>\n",
       "    <tr style=\"text-align: right;\">\n",
       "      <th></th>\n",
       "      <th>0</th>\n",
       "      <th>1</th>\n",
       "      <th>2</th>\n",
       "      <th>3</th>\n",
       "    </tr>\n",
       "  </thead>\n",
       "  <tbody>\n",
       "    <tr>\n",
       "      <th>0</th>\n",
       "      <td>291.165550</td>\n",
       "      <td>113.459582</td>\n",
       "      <td>155.302286</td>\n",
       "      <td>114.900339</td>\n",
       "    </tr>\n",
       "    <tr>\n",
       "      <th>1</th>\n",
       "      <td>113.459582</td>\n",
       "      <td>82.847972</td>\n",
       "      <td>113.173108</td>\n",
       "      <td>62.180119</td>\n",
       "    </tr>\n",
       "    <tr>\n",
       "      <th>2</th>\n",
       "      <td>155.302286</td>\n",
       "      <td>113.173108</td>\n",
       "      <td>256.910993</td>\n",
       "      <td>114.438342</td>\n",
       "    </tr>\n",
       "    <tr>\n",
       "      <th>3</th>\n",
       "      <td>114.900339</td>\n",
       "      <td>62.180119</td>\n",
       "      <td>114.438342</td>\n",
       "      <td>83.590008</td>\n",
       "    </tr>\n",
       "  </tbody>\n",
       "</table>\n",
       "</div>"
      ],
      "text/plain": [
       "            0           1           2           3\n",
       "0  291.165550  113.459582  155.302286  114.900339\n",
       "1  113.459582   82.847972  113.173108   62.180119\n",
       "2  155.302286  113.173108  256.910993  114.438342\n",
       "3  114.900339   62.180119  114.438342   83.590008"
      ]
     },
     "execution_count": 34,
     "metadata": {},
     "output_type": "execute_result"
    }
   ],
   "source": [
    "df(orig_data.CF_COUS[0])"
   ]
  },
  {
   "cell_type": "markdown",
   "metadata": {},
   "source": [
    "# 6 Parent mag corr CF_CPAR \n",
    "$ K^2 (N-1)$\n",
    "\n",
    "各スケールのサブバンドとより粗いスケールのサブバンドの絶対値の相互相関 \n",
    "\n",
    "- params[6] = [4,4,4]\n",
    "  - params[6][:,:,3] は0であることに注意する．\n",
    "  \n",
    "- CF_CPAR[N-1,K,K]\n"
   ]
  },
  {
   "cell_type": "code",
   "execution_count": 35,
   "metadata": {},
   "outputs": [],
   "source": [
    "param_count[6] = K*K*(N-1)"
   ]
  },
  {
   "cell_type": "code",
   "execution_count": 36,
   "metadata": {},
   "outputs": [
    {
     "name": "stdout",
     "output_type": "stream",
     "text": [
      "(4, 4, 4)\n"
     ]
    }
   ],
   "source": [
    "print(params[6].shape)"
   ]
  },
  {
   "cell_type": "code",
   "execution_count": 37,
   "metadata": {},
   "outputs": [
    {
     "data": {
      "text/plain": [
       "array([[ -255.28144269,  -693.78201858,   365.79206368,  -667.8428384 ],\n",
       "       [ -917.39776878,   366.49453824,   685.1201131 , -3839.98288069],\n",
       "       [ -415.30316037,   438.92788783,  1858.95282783,   385.9191696 ],\n",
       "       [ -933.5019696 , -3807.6488457 ,   799.50019379,   398.07434534]])"
      ]
     },
     "execution_count": 37,
     "metadata": {},
     "output_type": "execute_result"
    }
   ],
   "source": [
    "params[6][:,:,2] "
   ]
  },
  {
   "cell_type": "code",
   "execution_count": 38,
   "metadata": {},
   "outputs": [
    {
     "data": {
      "text/plain": [
       "[array([[230.70083511, 132.16035401, 250.59052016, 133.45592728],\n",
       "        [ 88.96197028,  85.98739825, 152.93817847,  85.05082173],\n",
       "        [108.08851437, 177.99297034, 317.24137977, 180.91347048],\n",
       "        [ 88.29622213,  84.95075898, 154.34568223,  88.251971  ]]),\n",
       " array([[280.29208337, 297.53961191, 870.11345031, 295.40499494],\n",
       "        [167.20918315,  54.66687291, 595.38588251, 279.10181324],\n",
       "        [284.54087715, 178.670249  , 560.20454763, 204.51434772],\n",
       "        [168.64018281, 262.13137005, 608.92823211,  60.3735673 ]]),\n",
       " array([[ -255.07403523,  -692.70291998,   365.70851581,  -667.12679867],\n",
       "        [ -917.58928117,   365.37916821,   686.56669263, -3837.68292394],\n",
       "        [ -414.30287642,   439.7361832 ,  1861.01819503,   390.94490129],\n",
       "        [ -935.29717414, -3809.04921294,   798.60824019,   394.53177439]])]"
      ]
     },
     "execution_count": 38,
     "metadata": {},
     "output_type": "execute_result"
    }
   ],
   "source": [
    "orig_data.CF_CPAR"
   ]
  },
  {
   "cell_type": "markdown",
   "metadata": {},
   "source": [
    "# 7 Cousin real corr CF_RCOU\n",
    "$ N \\frac{K(K-1)}{2}$\n",
    "\n",
    "各スケールにおける，各サブバンド対の実数の相互相関\n",
    "\n",
    "- params[7] = [8,8,5]\n",
    "  - 8 * 8の行列であるが，4 * 4しか使っていないことに注意\n",
    "  - 配列が5個あるのが謎である．．最下層のスケールにバンドでもあんの？？\n",
    " \n",
    "- CF_RCOU[N,K,K]"
   ]
  },
  {
   "cell_type": "code",
   "execution_count": 39,
   "metadata": {},
   "outputs": [],
   "source": [
    "param_count[7] = N*(K*(K-1))/2"
   ]
  },
  {
   "cell_type": "code",
   "execution_count": 40,
   "metadata": {},
   "outputs": [
    {
     "data": {
      "text/plain": [
       "(8, 8, 5)"
      ]
     },
     "execution_count": 40,
     "metadata": {},
     "output_type": "execute_result"
    }
   ],
   "source": [
    "params[7].shape"
   ]
  },
  {
   "cell_type": "code",
   "execution_count": 41,
   "metadata": {},
   "outputs": [
    {
     "data": {
      "text/html": [
       "<div>\n",
       "<style scoped>\n",
       "    .dataframe tbody tr th:only-of-type {\n",
       "        vertical-align: middle;\n",
       "    }\n",
       "\n",
       "    .dataframe tbody tr th {\n",
       "        vertical-align: top;\n",
       "    }\n",
       "\n",
       "    .dataframe thead th {\n",
       "        text-align: right;\n",
       "    }\n",
       "</style>\n",
       "<table border=\"1\" class=\"dataframe\">\n",
       "  <thead>\n",
       "    <tr style=\"text-align: right;\">\n",
       "      <th></th>\n",
       "      <th>0</th>\n",
       "      <th>1</th>\n",
       "      <th>2</th>\n",
       "      <th>3</th>\n",
       "      <th>4</th>\n",
       "      <th>5</th>\n",
       "      <th>6</th>\n",
       "      <th>7</th>\n",
       "    </tr>\n",
       "  </thead>\n",
       "  <tbody>\n",
       "    <tr>\n",
       "      <th>0</th>\n",
       "      <td>5111.983025</td>\n",
       "      <td>2670.657303</td>\n",
       "      <td>-1.939498</td>\n",
       "      <td>-2702.313037</td>\n",
       "      <td>0.0</td>\n",
       "      <td>0.0</td>\n",
       "      <td>0.0</td>\n",
       "      <td>0.0</td>\n",
       "    </tr>\n",
       "    <tr>\n",
       "      <th>1</th>\n",
       "      <td>2670.657303</td>\n",
       "      <td>4068.576957</td>\n",
       "      <td>3534.276685</td>\n",
       "      <td>600.852429</td>\n",
       "      <td>0.0</td>\n",
       "      <td>0.0</td>\n",
       "      <td>0.0</td>\n",
       "      <td>0.0</td>\n",
       "    </tr>\n",
       "    <tr>\n",
       "      <th>2</th>\n",
       "      <td>-1.939498</td>\n",
       "      <td>3534.276685</td>\n",
       "      <td>8714.274680</td>\n",
       "      <td>3534.153721</td>\n",
       "      <td>0.0</td>\n",
       "      <td>0.0</td>\n",
       "      <td>0.0</td>\n",
       "      <td>0.0</td>\n",
       "    </tr>\n",
       "    <tr>\n",
       "      <th>3</th>\n",
       "      <td>-2702.313037</td>\n",
       "      <td>600.852429</td>\n",
       "      <td>3534.153721</td>\n",
       "      <td>4098.631816</td>\n",
       "      <td>0.0</td>\n",
       "      <td>0.0</td>\n",
       "      <td>0.0</td>\n",
       "      <td>0.0</td>\n",
       "    </tr>\n",
       "    <tr>\n",
       "      <th>4</th>\n",
       "      <td>0.000000</td>\n",
       "      <td>0.000000</td>\n",
       "      <td>0.000000</td>\n",
       "      <td>0.000000</td>\n",
       "      <td>0.0</td>\n",
       "      <td>0.0</td>\n",
       "      <td>0.0</td>\n",
       "      <td>0.0</td>\n",
       "    </tr>\n",
       "    <tr>\n",
       "      <th>5</th>\n",
       "      <td>0.000000</td>\n",
       "      <td>0.000000</td>\n",
       "      <td>0.000000</td>\n",
       "      <td>0.000000</td>\n",
       "      <td>0.0</td>\n",
       "      <td>0.0</td>\n",
       "      <td>0.0</td>\n",
       "      <td>0.0</td>\n",
       "    </tr>\n",
       "    <tr>\n",
       "      <th>6</th>\n",
       "      <td>0.000000</td>\n",
       "      <td>0.000000</td>\n",
       "      <td>0.000000</td>\n",
       "      <td>0.000000</td>\n",
       "      <td>0.0</td>\n",
       "      <td>0.0</td>\n",
       "      <td>0.0</td>\n",
       "      <td>0.0</td>\n",
       "    </tr>\n",
       "    <tr>\n",
       "      <th>7</th>\n",
       "      <td>0.000000</td>\n",
       "      <td>0.000000</td>\n",
       "      <td>0.000000</td>\n",
       "      <td>0.000000</td>\n",
       "      <td>0.0</td>\n",
       "      <td>0.0</td>\n",
       "      <td>0.0</td>\n",
       "      <td>0.0</td>\n",
       "    </tr>\n",
       "  </tbody>\n",
       "</table>\n",
       "</div>"
      ],
      "text/plain": [
       "             0            1            2            3    4    5    6    7\n",
       "0  5111.983025  2670.657303    -1.939498 -2702.313037  0.0  0.0  0.0  0.0\n",
       "1  2670.657303  4068.576957  3534.276685   600.852429  0.0  0.0  0.0  0.0\n",
       "2    -1.939498  3534.276685  8714.274680  3534.153721  0.0  0.0  0.0  0.0\n",
       "3 -2702.313037   600.852429  3534.153721  4098.631816  0.0  0.0  0.0  0.0\n",
       "4     0.000000     0.000000     0.000000     0.000000  0.0  0.0  0.0  0.0\n",
       "5     0.000000     0.000000     0.000000     0.000000  0.0  0.0  0.0  0.0\n",
       "6     0.000000     0.000000     0.000000     0.000000  0.0  0.0  0.0  0.0\n",
       "7     0.000000     0.000000     0.000000     0.000000  0.0  0.0  0.0  0.0"
      ]
     },
     "execution_count": 41,
     "metadata": {},
     "output_type": "execute_result"
    }
   ],
   "source": [
    "df(params[7][:,:,1])"
   ]
  },
  {
   "cell_type": "code",
   "execution_count": 42,
   "metadata": {},
   "outputs": [
    {
     "data": {
      "text/plain": [
       "array([[ 5.11152982e+03,  2.67039184e+03, -1.91301162e+00,\n",
       "        -2.70214985e+03],\n",
       "       [ 2.67039184e+03,  4.06857953e+03,  3.53458426e+03,\n",
       "         6.00961437e+02],\n",
       "       [-1.91301162e+00,  3.53458426e+03,  8.71481467e+03,\n",
       "         3.53420544e+03],\n",
       "       [-2.70214985e+03,  6.00961437e+02,  3.53420544e+03,\n",
       "         4.09841986e+03]])"
      ]
     },
     "execution_count": 42,
     "metadata": {},
     "output_type": "execute_result"
    }
   ],
   "source": [
    "orig_data.CF_RCOU[1]"
   ]
  },
  {
   "cell_type": "markdown",
   "metadata": {},
   "source": [
    "# 8. parent real corr CF_RPAR\n",
    "$2*K^2 (N-1)$\n",
    "\n",
    " クロススケール位相特性\n",
    " 各スケールの実数成分と．1つ粗いスケールで位相を二倍した実数及び虚数との相互相関\n",
    "\n",
    "- params[8] = [2K,2K,(N)]\n",
    " - なぜ4まであるか謎である．\n",
    " - (8*8)であるが実際は(4,8)しか使ってない．\n",
    " \n",
    "- CF_RPAR[N-1,K,2K]"
   ]
  },
  {
   "cell_type": "code",
   "execution_count": 43,
   "metadata": {},
   "outputs": [],
   "source": [
    "param_count[8] = 2*K*K*(N-1)"
   ]
  },
  {
   "cell_type": "code",
   "execution_count": 44,
   "metadata": {},
   "outputs": [
    {
     "name": "stdout",
     "output_type": "stream",
     "text": [
      "(8, 8, 4)\n"
     ]
    }
   ],
   "source": [
    "print(params[8].shape)"
   ]
  },
  {
   "cell_type": "code",
   "execution_count": 45,
   "metadata": {},
   "outputs": [
    {
     "data": {
      "text/plain": [
       "1j"
      ]
     },
     "execution_count": 45,
     "metadata": {},
     "output_type": "execute_result"
    }
   ],
   "source": [
    "complex(0,1)"
   ]
  },
  {
   "cell_type": "code",
   "execution_count": 46,
   "metadata": {},
   "outputs": [
    {
     "data": {
      "text/html": [
       "<div>\n",
       "<style scoped>\n",
       "    .dataframe tbody tr th:only-of-type {\n",
       "        vertical-align: middle;\n",
       "    }\n",
       "\n",
       "    .dataframe tbody tr th {\n",
       "        vertical-align: top;\n",
       "    }\n",
       "\n",
       "    .dataframe thead th {\n",
       "        text-align: right;\n",
       "    }\n",
       "</style>\n",
       "<table border=\"1\" class=\"dataframe\">\n",
       "  <thead>\n",
       "    <tr style=\"text-align: right;\">\n",
       "      <th></th>\n",
       "      <th>0</th>\n",
       "      <th>1</th>\n",
       "      <th>2</th>\n",
       "      <th>3</th>\n",
       "      <th>4</th>\n",
       "      <th>5</th>\n",
       "      <th>6</th>\n",
       "      <th>7</th>\n",
       "    </tr>\n",
       "  </thead>\n",
       "  <tbody>\n",
       "    <tr>\n",
       "      <th>0</th>\n",
       "      <td>-0.239580</td>\n",
       "      <td>-12.730059</td>\n",
       "      <td>0.033107</td>\n",
       "      <td>13.385586</td>\n",
       "      <td>-236.691207</td>\n",
       "      <td>-36.924897</td>\n",
       "      <td>0.043128</td>\n",
       "      <td>36.419007</td>\n",
       "    </tr>\n",
       "    <tr>\n",
       "      <th>1</th>\n",
       "      <td>1.977989</td>\n",
       "      <td>-1.386522</td>\n",
       "      <td>15.577418</td>\n",
       "      <td>7.225154</td>\n",
       "      <td>-86.343440</td>\n",
       "      <td>-54.516089</td>\n",
       "      <td>-121.436640</td>\n",
       "      <td>-0.584874</td>\n",
       "    </tr>\n",
       "    <tr>\n",
       "      <th>2</th>\n",
       "      <td>-0.108949</td>\n",
       "      <td>12.735916</td>\n",
       "      <td>38.681420</td>\n",
       "      <td>11.708773</td>\n",
       "      <td>-0.143356</td>\n",
       "      <td>-48.794387</td>\n",
       "      <td>-331.196847</td>\n",
       "      <td>-49.077506</td>\n",
       "    </tr>\n",
       "    <tr>\n",
       "      <th>3</th>\n",
       "      <td>2.123031</td>\n",
       "      <td>7.008979</td>\n",
       "      <td>14.899405</td>\n",
       "      <td>-3.046876</td>\n",
       "      <td>84.916765</td>\n",
       "      <td>-0.723033</td>\n",
       "      <td>-120.970745</td>\n",
       "      <td>-55.698447</td>\n",
       "    </tr>\n",
       "    <tr>\n",
       "      <th>4</th>\n",
       "      <td>0.000000</td>\n",
       "      <td>0.000000</td>\n",
       "      <td>0.000000</td>\n",
       "      <td>0.000000</td>\n",
       "      <td>0.000000</td>\n",
       "      <td>0.000000</td>\n",
       "      <td>0.000000</td>\n",
       "      <td>0.000000</td>\n",
       "    </tr>\n",
       "    <tr>\n",
       "      <th>5</th>\n",
       "      <td>0.000000</td>\n",
       "      <td>0.000000</td>\n",
       "      <td>0.000000</td>\n",
       "      <td>0.000000</td>\n",
       "      <td>0.000000</td>\n",
       "      <td>0.000000</td>\n",
       "      <td>0.000000</td>\n",
       "      <td>0.000000</td>\n",
       "    </tr>\n",
       "    <tr>\n",
       "      <th>6</th>\n",
       "      <td>0.000000</td>\n",
       "      <td>0.000000</td>\n",
       "      <td>0.000000</td>\n",
       "      <td>0.000000</td>\n",
       "      <td>0.000000</td>\n",
       "      <td>0.000000</td>\n",
       "      <td>0.000000</td>\n",
       "      <td>0.000000</td>\n",
       "    </tr>\n",
       "    <tr>\n",
       "      <th>7</th>\n",
       "      <td>0.000000</td>\n",
       "      <td>0.000000</td>\n",
       "      <td>0.000000</td>\n",
       "      <td>0.000000</td>\n",
       "      <td>0.000000</td>\n",
       "      <td>0.000000</td>\n",
       "      <td>0.000000</td>\n",
       "      <td>0.000000</td>\n",
       "    </tr>\n",
       "  </tbody>\n",
       "</table>\n",
       "</div>"
      ],
      "text/plain": [
       "          0          1          2          3           4          5  \\\n",
       "0 -0.239580 -12.730059   0.033107  13.385586 -236.691207 -36.924897   \n",
       "1  1.977989  -1.386522  15.577418   7.225154  -86.343440 -54.516089   \n",
       "2 -0.108949  12.735916  38.681420  11.708773   -0.143356 -48.794387   \n",
       "3  2.123031   7.008979  14.899405  -3.046876   84.916765  -0.723033   \n",
       "4  0.000000   0.000000   0.000000   0.000000    0.000000   0.000000   \n",
       "5  0.000000   0.000000   0.000000   0.000000    0.000000   0.000000   \n",
       "6  0.000000   0.000000   0.000000   0.000000    0.000000   0.000000   \n",
       "7  0.000000   0.000000   0.000000   0.000000    0.000000   0.000000   \n",
       "\n",
       "            6          7  \n",
       "0    0.043128  36.419007  \n",
       "1 -121.436640  -0.584874  \n",
       "2 -331.196847 -49.077506  \n",
       "3 -120.970745 -55.698447  \n",
       "4    0.000000   0.000000  \n",
       "5    0.000000   0.000000  \n",
       "6    0.000000   0.000000  \n",
       "7    0.000000   0.000000  "
      ]
     },
     "execution_count": 46,
     "metadata": {},
     "output_type": "execute_result"
    }
   ],
   "source": [
    "df(params[8][:,:,0])"
   ]
  },
  {
   "cell_type": "code",
   "execution_count": 47,
   "metadata": {},
   "outputs": [
    {
     "data": {
      "text/html": [
       "<div>\n",
       "<style scoped>\n",
       "    .dataframe tbody tr th:only-of-type {\n",
       "        vertical-align: middle;\n",
       "    }\n",
       "\n",
       "    .dataframe tbody tr th {\n",
       "        vertical-align: top;\n",
       "    }\n",
       "\n",
       "    .dataframe thead th {\n",
       "        text-align: right;\n",
       "    }\n",
       "</style>\n",
       "<table border=\"1\" class=\"dataframe\">\n",
       "  <thead>\n",
       "    <tr style=\"text-align: right;\">\n",
       "      <th></th>\n",
       "      <th>0</th>\n",
       "      <th>1</th>\n",
       "      <th>2</th>\n",
       "      <th>3</th>\n",
       "      <th>4</th>\n",
       "      <th>5</th>\n",
       "      <th>6</th>\n",
       "      <th>7</th>\n",
       "    </tr>\n",
       "  </thead>\n",
       "  <tbody>\n",
       "    <tr>\n",
       "      <th>0</th>\n",
       "      <td>-0.279413</td>\n",
       "      <td>-12.743050</td>\n",
       "      <td>0.033114</td>\n",
       "      <td>13.382287</td>\n",
       "      <td>-236.684696</td>\n",
       "      <td>-36.918687</td>\n",
       "      <td>0.043763</td>\n",
       "      <td>36.421820</td>\n",
       "    </tr>\n",
       "    <tr>\n",
       "      <th>1</th>\n",
       "      <td>1.959431</td>\n",
       "      <td>-1.397172</td>\n",
       "      <td>15.590301</td>\n",
       "      <td>7.222181</td>\n",
       "      <td>-86.347459</td>\n",
       "      <td>-54.497611</td>\n",
       "      <td>-121.453854</td>\n",
       "      <td>-0.586351</td>\n",
       "    </tr>\n",
       "    <tr>\n",
       "      <th>2</th>\n",
       "      <td>-0.110661</td>\n",
       "      <td>12.741273</td>\n",
       "      <td>38.705585</td>\n",
       "      <td>11.697919</td>\n",
       "      <td>-0.143422</td>\n",
       "      <td>-48.794324</td>\n",
       "      <td>-331.249658</td>\n",
       "      <td>-49.093549</td>\n",
       "    </tr>\n",
       "    <tr>\n",
       "      <th>3</th>\n",
       "      <td>2.134928</td>\n",
       "      <td>7.012429</td>\n",
       "      <td>14.905339</td>\n",
       "      <td>-3.060979</td>\n",
       "      <td>84.908520</td>\n",
       "      <td>-0.727379</td>\n",
       "      <td>-120.991871</td>\n",
       "      <td>-55.716491</td>\n",
       "    </tr>\n",
       "  </tbody>\n",
       "</table>\n",
       "</div>"
      ],
      "text/plain": [
       "          0          1          2          3           4          5  \\\n",
       "0 -0.279413 -12.743050   0.033114  13.382287 -236.684696 -36.918687   \n",
       "1  1.959431  -1.397172  15.590301   7.222181  -86.347459 -54.497611   \n",
       "2 -0.110661  12.741273  38.705585  11.697919   -0.143422 -48.794324   \n",
       "3  2.134928   7.012429  14.905339  -3.060979   84.908520  -0.727379   \n",
       "\n",
       "            6          7  \n",
       "0    0.043763  36.421820  \n",
       "1 -121.453854  -0.586351  \n",
       "2 -331.249658 -49.093549  \n",
       "3 -120.991871 -55.716491  "
      ]
     },
     "execution_count": 47,
     "metadata": {},
     "output_type": "execute_result"
    }
   ],
   "source": [
    "df(orig_data.CF_RPAR[0])"
   ]
  },
  {
   "cell_type": "markdown",
   "metadata": {},
   "source": [
    "# 9.variance HPR  orig_data.H0_PRO\n",
    "$1$\n",
    "\n",
    "h0の分散．\n",
    "- 一緒っぽい"
   ]
  },
  {
   "cell_type": "code",
   "execution_count": 48,
   "metadata": {},
   "outputs": [],
   "source": [
    "param_count[9] = 1"
   ]
  },
  {
   "cell_type": "code",
   "execution_count": 35,
   "metadata": {},
   "outputs": [
    {
     "data": {
      "text/plain": [
       "array([[41.85841985]])"
      ]
     },
     "execution_count": 35,
     "metadata": {},
     "output_type": "execute_result"
    }
   ],
   "source": [
    "params[9]"
   ]
  },
  {
   "cell_type": "code",
   "execution_count": 36,
   "metadata": {},
   "outputs": [
    {
     "data": {
      "text/plain": [
       "41.85841984837308"
      ]
     },
     "execution_count": 36,
     "metadata": {},
     "output_type": "execute_result"
    }
   ],
   "source": [
    "orig_data.H0_PRO"
   ]
  }
 ],
 "metadata": {
  "kernelspec": {
   "display_name": "Python 3",
   "language": "python",
   "name": "python3"
  },
  "language_info": {
   "codemirror_mode": {
    "name": "ipython",
    "version": 3
   },
   "file_extension": ".py",
   "mimetype": "text/x-python",
   "name": "python",
   "nbconvert_exporter": "python",
   "pygments_lexer": "ipython3",
   "version": "3.7.3"
  },
  "varInspector": {
   "cols": {
    "lenName": 16,
    "lenType": 16,
    "lenVar": 40
   },
   "kernels_config": {
    "python": {
     "delete_cmd_postfix": "",
     "delete_cmd_prefix": "del ",
     "library": "var_list.py",
     "varRefreshCmd": "print(var_dic_list())"
    },
    "r": {
     "delete_cmd_postfix": ") ",
     "delete_cmd_prefix": "rm(",
     "library": "var_list.r",
     "varRefreshCmd": "cat(var_dic_list()) "
    }
   },
   "types_to_exclude": [
    "module",
    "function",
    "builtin_function_or_method",
    "instance",
    "_Feature"
   ],
   "window_display": false
  }
 },
 "nbformat": 4,
 "nbformat_minor": 2
}
